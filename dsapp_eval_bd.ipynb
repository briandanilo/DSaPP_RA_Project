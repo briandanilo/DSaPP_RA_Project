{
 "cells": [
  {
   "cell_type": "code",
   "execution_count": 56,
   "metadata": {
    "collapsed": true
   },
   "outputs": [],
   "source": [
    "import pandas as pd\n",
    "import numpy as np\n",
    "import matplotlib.pyplot as plt\n",
    "import pylab\n",
    "import copy"
   ]
  },
  {
   "cell_type": "code",
   "execution_count": 57,
   "metadata": {
    "collapsed": true
   },
   "outputs": [],
   "source": [
    "dfO = pd.read_csv(\"outcomes.csv\")\n",
    "dfP = pd.read_csv(\"projects.csv\")\n",
    "dfD = pd.read_csv(\"donations.csv\")"
   ]
  },
  {
   "cell_type": "code",
   "execution_count": 58,
   "metadata": {
    "collapsed": true
   },
   "outputs": [],
   "source": [
    "d = pd.merge(dfO,dfP,on=\"projectid\",how=\"inner\")"
   ]
  },
  {
   "cell_type": "code",
   "execution_count": 59,
   "metadata": {
    "collapsed": true
   },
   "outputs": [],
   "source": [
    "# let's create a summary of all donations (sum and count per project)\n",
    "donationSummary = pd.pivot_table(dfD,index=[\"projectid\"],\n",
    "               values=[\"donation_total\"],\n",
    "               aggfunc=[np.sum,len],margins=True)\n",
    "# clean up the column names for merging with main data set\n",
    "donationSummary.columns =[s1 + \"_\" + str(s2) for (s1,s2) in donationSummary.columns.tolist()]\n",
    "# merge\n",
    "dd = pd.merge(d,donationSummary,left_on=\"projectid\", right_index=True,how='inner')"
   ]
  },
  {
   "cell_type": "code",
   "execution_count": 60,
   "metadata": {
    "collapsed": true
   },
   "outputs": [],
   "source": [
    "# let's pick a few values as a sanity check and \n",
    "# compare raw donation data to summary data in new merged dataframe\n",
    "#dd.head()\n",
    "#dfD[dfD.projectid == 'fffeebf4827d745aa36b17c2d38d1966'].donation_total.sum()\n",
    "#dfD[dfD.projectid == 'ffffac55ee02a49d1abc87ba6fc61135'].donation_total.sum()"
   ]
  },
  {
   "cell_type": "code",
   "execution_count": 62,
   "metadata": {},
   "outputs": [
    {
     "name": "stdout",
     "output_type": "stream",
     "text": [
      "0.819589670922\n"
     ]
    }
   ],
   "source": [
    "# i would think that the hardest thing for a project to get is money\n",
    "# that doesn't appear to be the case, with 82% of projects being fully_funded\n",
    "print(sum(dd.fully_funded)/len(dd.fully_funded))"
   ]
  },
  {
   "cell_type": "code",
   "execution_count": 63,
   "metadata": {},
   "outputs": [
    {
     "name": "stdout",
     "output_type": "stream",
     "text": [
      "0.23739243717645445\n"
     ]
    }
   ],
   "source": [
    "# hardest of the 4 required criteria is a teacher referred donor\n",
    "tfdTrue = len(dd.at_least_1_teacher_referred_donor[dd.at_least_1_teacher_referred_donor==1])\n",
    "totalTfd = len(dd.at_least_1_teacher_referred_donor)\n",
    "print(tfdTrue/totalTfd)"
   ]
  },
  {
   "cell_type": "code",
   "execution_count": null,
   "metadata": {
    "collapsed": true
   },
   "outputs": [],
   "source": [
    "# replace all t/f with 1/0\n",
    "for i in ['is_exciting','at_least_1_teacher_referred_donor','fully_funded','at_least_1_green_donation','great_chat','three_or_more_non_teacher_referred_donors','one_non_teacher_referred_donor_giving_100_plus','donation_from_thoughtful_donor','school_charter','school_magnet','school_year_round','school_nlns','school_kipp','school_charter_ready_promise','teacher_teach_for_america','teacher_ny_teaching_fellow','eligible_double_your_impact_match','eligible_almost_home_match']:\n",
    "    dd[i] = dd[i].replace(['t','f'],[1,0])"
   ]
  },
  {
   "cell_type": "code",
   "execution_count": 7,
   "metadata": {},
   "outputs": [
    {
     "data": {
      "text/html": [
       "<div>\n",
       "<table border=\"1\" class=\"dataframe\">\n",
       "  <thead>\n",
       "    <tr style=\"text-align: right;\">\n",
       "      <th></th>\n",
       "      <th>is_exciting</th>\n",
       "      <th>0</th>\n",
       "      <th>1</th>\n",
       "      <th>All</th>\n",
       "      <th>exciting_rate</th>\n",
       "    </tr>\n",
       "  </thead>\n",
       "  <tbody>\n",
       "    <tr>\n",
       "      <th rowspan=\"17\" valign=\"top\">sum</th>\n",
       "      <th>at_least_1_teacher_referred_donor</th>\n",
       "      <td>87931.0</td>\n",
       "      <td>36710.0</td>\n",
       "      <td>124641.0</td>\n",
       "      <td>0.294526</td>\n",
       "    </tr>\n",
       "    <tr>\n",
       "      <th>great_chat</th>\n",
       "      <td>150398.0</td>\n",
       "      <td>36710.0</td>\n",
       "      <td>187108.0</td>\n",
       "      <td>0.196197</td>\n",
       "    </tr>\n",
       "    <tr>\n",
       "      <th>donation_from_thoughtful_donor</th>\n",
       "      <td>5879.0</td>\n",
       "      <td>1057.0</td>\n",
       "      <td>6936.0</td>\n",
       "      <td>0.152393</td>\n",
       "    </tr>\n",
       "    <tr>\n",
       "      <th>school_kipp</th>\n",
       "      <td>3378.0</td>\n",
       "      <td>489.0</td>\n",
       "      <td>3860.0</td>\n",
       "      <td>0.126684</td>\n",
       "    </tr>\n",
       "    <tr>\n",
       "      <th>teacher_teach_for_america</th>\n",
       "      <td>29151.0</td>\n",
       "      <td>3882.0</td>\n",
       "      <td>32966.0</td>\n",
       "      <td>0.117758</td>\n",
       "    </tr>\n",
       "    <tr>\n",
       "      <th>three_or_more_non_teacher_referred_donors</th>\n",
       "      <td>240718.0</td>\n",
       "      <td>31660.0</td>\n",
       "      <td>272378.0</td>\n",
       "      <td>0.116236</td>\n",
       "    </tr>\n",
       "    <tr>\n",
       "      <th>school_charter</th>\n",
       "      <td>42240.0</td>\n",
       "      <td>5074.0</td>\n",
       "      <td>47288.0</td>\n",
       "      <td>0.107300</td>\n",
       "    </tr>\n",
       "    <tr>\n",
       "      <th>at_least_1_green_donation</th>\n",
       "      <td>341981.0</td>\n",
       "      <td>36710.0</td>\n",
       "      <td>378691.0</td>\n",
       "      <td>0.096939</td>\n",
       "    </tr>\n",
       "    <tr>\n",
       "      <th>school_charter_ready_promise</th>\n",
       "      <td>2597.0</td>\n",
       "      <td>266.0</td>\n",
       "      <td>2861.0</td>\n",
       "      <td>0.092974</td>\n",
       "    </tr>\n",
       "    <tr>\n",
       "      <th>fully_funded</th>\n",
       "      <td>393609.0</td>\n",
       "      <td>36710.0</td>\n",
       "      <td>430075.0</td>\n",
       "      <td>0.085357</td>\n",
       "    </tr>\n",
       "    <tr>\n",
       "      <th>school_nlns</th>\n",
       "      <td>7828.0</td>\n",
       "      <td>727.0</td>\n",
       "      <td>8540.0</td>\n",
       "      <td>0.085129</td>\n",
       "    </tr>\n",
       "    <tr>\n",
       "      <th>one_non_teacher_referred_donor_giving_100_plus</th>\n",
       "      <td>350070.0</td>\n",
       "      <td>27695.0</td>\n",
       "      <td>377765.0</td>\n",
       "      <td>0.073313</td>\n",
       "    </tr>\n",
       "    <tr>\n",
       "      <th>school_magnet</th>\n",
       "      <td>46754.0</td>\n",
       "      <td>3371.0</td>\n",
       "      <td>50082.0</td>\n",
       "      <td>0.067310</td>\n",
       "    </tr>\n",
       "    <tr>\n",
       "      <th>eligible_double_your_impact_match</th>\n",
       "      <td>143042.0</td>\n",
       "      <td>9685.0</td>\n",
       "      <td>152727.0</td>\n",
       "      <td>0.063414</td>\n",
       "    </tr>\n",
       "    <tr>\n",
       "      <th>school_year_round</th>\n",
       "      <td>24514.0</td>\n",
       "      <td>1614.0</td>\n",
       "      <td>26094.0</td>\n",
       "      <td>0.061853</td>\n",
       "    </tr>\n",
       "    <tr>\n",
       "      <th>eligible_almost_home_match</th>\n",
       "      <td>32237.0</td>\n",
       "      <td>2061.0</td>\n",
       "      <td>34298.0</td>\n",
       "      <td>0.060091</td>\n",
       "    </tr>\n",
       "    <tr>\n",
       "      <th>teacher_ny_teaching_fellow</th>\n",
       "      <td>9255.0</td>\n",
       "      <td>563.0</td>\n",
       "      <td>9780.0</td>\n",
       "      <td>0.057566</td>\n",
       "    </tr>\n",
       "  </tbody>\n",
       "</table>\n",
       "</div>"
      ],
      "text/plain": [
       "is_exciting                                                0        1  \\\n",
       "sum at_least_1_teacher_referred_donor                87931.0  36710.0   \n",
       "    great_chat                                      150398.0  36710.0   \n",
       "    donation_from_thoughtful_donor                    5879.0   1057.0   \n",
       "    school_kipp                                       3378.0    489.0   \n",
       "    teacher_teach_for_america                        29151.0   3882.0   \n",
       "    three_or_more_non_teacher_referred_donors       240718.0  31660.0   \n",
       "    school_charter                                   42240.0   5074.0   \n",
       "    at_least_1_green_donation                       341981.0  36710.0   \n",
       "    school_charter_ready_promise                      2597.0    266.0   \n",
       "    fully_funded                                    393609.0  36710.0   \n",
       "    school_nlns                                       7828.0    727.0   \n",
       "    one_non_teacher_referred_donor_giving_100_plus  350070.0  27695.0   \n",
       "    school_magnet                                    46754.0   3371.0   \n",
       "    eligible_double_your_impact_match               143042.0   9685.0   \n",
       "    school_year_round                                24514.0   1614.0   \n",
       "    eligible_almost_home_match                       32237.0   2061.0   \n",
       "    teacher_ny_teaching_fellow                        9255.0    563.0   \n",
       "\n",
       "is_exciting                                              All  exciting_rate  \n",
       "sum at_least_1_teacher_referred_donor               124641.0       0.294526  \n",
       "    great_chat                                      187108.0       0.196197  \n",
       "    donation_from_thoughtful_donor                    6936.0       0.152393  \n",
       "    school_kipp                                       3860.0       0.126684  \n",
       "    teacher_teach_for_america                        32966.0       0.117758  \n",
       "    three_or_more_non_teacher_referred_donors       272378.0       0.116236  \n",
       "    school_charter                                   47288.0       0.107300  \n",
       "    at_least_1_green_donation                       378691.0       0.096939  \n",
       "    school_charter_ready_promise                      2861.0       0.092974  \n",
       "    fully_funded                                    430075.0       0.085357  \n",
       "    school_nlns                                       8540.0       0.085129  \n",
       "    one_non_teacher_referred_donor_giving_100_plus  377765.0       0.073313  \n",
       "    school_magnet                                    50082.0       0.067310  \n",
       "    eligible_double_your_impact_match               152727.0       0.063414  \n",
       "    school_year_round                                26094.0       0.061853  \n",
       "    eligible_almost_home_match                       34298.0       0.060091  \n",
       "    teacher_ny_teaching_fellow                        9780.0       0.057566  "
      ]
     },
     "execution_count": 7,
     "metadata": {},
     "output_type": "execute_result"
    }
   ],
   "source": [
    "# lets get a high level look at all the boolean vars \n",
    "# exciting project rate is: (var==true && proj==exciting) / (var==true)\n",
    "byBoolean = pd.pivot_table(dd,index=[\"is_exciting\"],\n",
    "               values=['at_least_1_teacher_referred_donor','fully_funded','at_least_1_green_donation','great_chat','three_or_more_non_teacher_referred_donors','one_non_teacher_referred_donor_giving_100_plus','donation_from_thoughtful_donor','school_charter','school_magnet','school_year_round','school_nlns','school_kipp','school_charter_ready_promise','teacher_teach_for_america','teacher_ny_teaching_fellow','eligible_double_your_impact_match','eligible_almost_home_match'],\n",
    "               aggfunc=[np.sum],margins=True)\n",
    "byBoolean = byBoolean.transpose()\n",
    "byBoolean[\"exciting_rate\"] = byBoolean[1]/byBoolean.All\n",
    "byBoolean.sort_values(by=('exciting_rate'),ascending=False,inplace=True)\n",
    "byBoolean"
   ]
  },
  {
   "cell_type": "code",
   "execution_count": 64,
   "metadata": {},
   "outputs": [
    {
     "data": {
      "text/html": [
       "<div>\n",
       "<table border=\"1\" class=\"dataframe\">\n",
       "  <thead>\n",
       "    <tr style=\"text-align: right;\">\n",
       "      <th></th>\n",
       "      <th>sum_is_exciting</th>\n",
       "      <th>len_is_exciting</th>\n",
       "      <th>exciting_rate</th>\n",
       "    </tr>\n",
       "    <tr>\n",
       "      <th>poverty_level</th>\n",
       "      <th></th>\n",
       "      <th></th>\n",
       "      <th></th>\n",
       "    </tr>\n",
       "  </thead>\n",
       "  <tbody>\n",
       "    <tr>\n",
       "      <th>moderate poverty</th>\n",
       "      <td>5283.0</td>\n",
       "      <td>70324.0</td>\n",
       "      <td>0.075124</td>\n",
       "    </tr>\n",
       "    <tr>\n",
       "      <th>low poverty</th>\n",
       "      <td>947.0</td>\n",
       "      <td>13036.0</td>\n",
       "      <td>0.072645</td>\n",
       "    </tr>\n",
       "    <tr>\n",
       "      <th>highest poverty</th>\n",
       "      <td>21501.0</td>\n",
       "      <td>307305.0</td>\n",
       "      <td>0.069966</td>\n",
       "    </tr>\n",
       "    <tr>\n",
       "      <th>All</th>\n",
       "      <td>36710.0</td>\n",
       "      <td>525042.0</td>\n",
       "      <td>0.069918</td>\n",
       "    </tr>\n",
       "    <tr>\n",
       "      <th>high poverty</th>\n",
       "      <td>8979.0</td>\n",
       "      <td>134377.0</td>\n",
       "      <td>0.066819</td>\n",
       "    </tr>\n",
       "  </tbody>\n",
       "</table>\n",
       "</div>"
      ],
      "text/plain": [
       "                  sum_is_exciting  len_is_exciting  exciting_rate\n",
       "poverty_level                                                    \n",
       "moderate poverty           5283.0          70324.0       0.075124\n",
       "low poverty                 947.0          13036.0       0.072645\n",
       "highest poverty           21501.0         307305.0       0.069966\n",
       "All                       36710.0         525042.0       0.069918\n",
       "high poverty               8979.0         134377.0       0.066819"
      ]
     },
     "execution_count": 64,
     "metadata": {},
     "output_type": "execute_result"
    }
   ],
   "source": [
    "# we should look at poverty level too\n",
    "# we expect a link between poverty level and success (of anything)\n",
    "# not surprisingly, the link is present here \n",
    "byPovertyLevel = pd.pivot_table(dd,index=[\"poverty_level\"],\n",
    "               values=[\"is_exciting\"],\n",
    "               aggfunc=[np.sum,len],margins=True)\n",
    "byPovertyLevel.columns =[s1 + \"_\" + str(s2) for (s1,s2) in byPovertyLevel.columns.tolist()]\n",
    "byPovertyLevel\n",
    "byPovertyLevel['exciting_rate'] = byPovertyLevel['sum_is_exciting']/byPovertyLevel['len_is_exciting']\n",
    "byPovertyLevel.sort_values(by=('exciting_rate'),ascending=False,inplace=True)\n",
    "byPovertyLevel"
   ]
  },
  {
   "cell_type": "code",
   "execution_count": 65,
   "metadata": {},
   "outputs": [
    {
     "data": {
      "text/html": [
       "<div>\n",
       "<table border=\"1\" class=\"dataframe\">\n",
       "  <thead>\n",
       "    <tr style=\"text-align: right;\">\n",
       "      <th></th>\n",
       "      <th>total_projects</th>\n",
       "      <th>exciting_rate</th>\n",
       "      <th>per_project_avg_total_don</th>\n",
       "      <th>per_project_avg_total_cost</th>\n",
       "      <th>pcnt_funded</th>\n",
       "    </tr>\n",
       "    <tr>\n",
       "      <th>month</th>\n",
       "      <th></th>\n",
       "      <th></th>\n",
       "      <th></th>\n",
       "      <th></th>\n",
       "      <th></th>\n",
       "    </tr>\n",
       "  </thead>\n",
       "  <tbody>\n",
       "    <tr>\n",
       "      <th>1</th>\n",
       "      <td>44461.0</td>\n",
       "      <td>0.054812</td>\n",
       "      <td>425.846464</td>\n",
       "      <td>563.161414</td>\n",
       "      <td>0.756171</td>\n",
       "    </tr>\n",
       "    <tr>\n",
       "      <th>2</th>\n",
       "      <td>38139.0</td>\n",
       "      <td>0.047248</td>\n",
       "      <td>408.418706</td>\n",
       "      <td>552.585735</td>\n",
       "      <td>0.739105</td>\n",
       "    </tr>\n",
       "    <tr>\n",
       "      <th>3</th>\n",
       "      <td>37386.0</td>\n",
       "      <td>0.050821</td>\n",
       "      <td>418.887073</td>\n",
       "      <td>558.841774</td>\n",
       "      <td>0.749563</td>\n",
       "    </tr>\n",
       "    <tr>\n",
       "      <th>4</th>\n",
       "      <td>30100.0</td>\n",
       "      <td>0.045548</td>\n",
       "      <td>431.507828</td>\n",
       "      <td>580.571513</td>\n",
       "      <td>0.743247</td>\n",
       "    </tr>\n",
       "    <tr>\n",
       "      <th>5</th>\n",
       "      <td>25507.0</td>\n",
       "      <td>0.055710</td>\n",
       "      <td>434.041925</td>\n",
       "      <td>581.897578</td>\n",
       "      <td>0.745908</td>\n",
       "    </tr>\n",
       "    <tr>\n",
       "      <th>6</th>\n",
       "      <td>22247.0</td>\n",
       "      <td>0.069717</td>\n",
       "      <td>414.353572</td>\n",
       "      <td>575.814345</td>\n",
       "      <td>0.719596</td>\n",
       "    </tr>\n",
       "    <tr>\n",
       "      <th>7</th>\n",
       "      <td>30342.0</td>\n",
       "      <td>0.085986</td>\n",
       "      <td>415.936242</td>\n",
       "      <td>568.090804</td>\n",
       "      <td>0.732165</td>\n",
       "    </tr>\n",
       "    <tr>\n",
       "      <th>8</th>\n",
       "      <td>54942.0</td>\n",
       "      <td>0.087547</td>\n",
       "      <td>432.105077</td>\n",
       "      <td>553.364527</td>\n",
       "      <td>0.780869</td>\n",
       "    </tr>\n",
       "    <tr>\n",
       "      <th>9</th>\n",
       "      <td>72413.0</td>\n",
       "      <td>0.077776</td>\n",
       "      <td>502.700081</td>\n",
       "      <td>632.576728</td>\n",
       "      <td>0.794686</td>\n",
       "    </tr>\n",
       "    <tr>\n",
       "      <th>10</th>\n",
       "      <td>66366.0</td>\n",
       "      <td>0.075325</td>\n",
       "      <td>473.398472</td>\n",
       "      <td>597.009963</td>\n",
       "      <td>0.792949</td>\n",
       "    </tr>\n",
       "    <tr>\n",
       "      <th>11</th>\n",
       "      <td>51045.0</td>\n",
       "      <td>0.077108</td>\n",
       "      <td>494.903681</td>\n",
       "      <td>643.132943</td>\n",
       "      <td>0.769520</td>\n",
       "    </tr>\n",
       "    <tr>\n",
       "      <th>12</th>\n",
       "      <td>52094.0</td>\n",
       "      <td>0.081430</td>\n",
       "      <td>473.237781</td>\n",
       "      <td>611.511851</td>\n",
       "      <td>0.773882</td>\n",
       "    </tr>\n",
       "    <tr>\n",
       "      <th>All</th>\n",
       "      <td>525042.0</td>\n",
       "      <td>0.069918</td>\n",
       "      <td>452.428978</td>\n",
       "      <td>590.214074</td>\n",
       "      <td>0.766551</td>\n",
       "    </tr>\n",
       "  </tbody>\n",
       "</table>\n",
       "</div>"
      ],
      "text/plain": [
       "       total_projects  exciting_rate  per_project_avg_total_don  \\\n",
       "month                                                             \n",
       "1             44461.0       0.054812                 425.846464   \n",
       "2             38139.0       0.047248                 408.418706   \n",
       "3             37386.0       0.050821                 418.887073   \n",
       "4             30100.0       0.045548                 431.507828   \n",
       "5             25507.0       0.055710                 434.041925   \n",
       "6             22247.0       0.069717                 414.353572   \n",
       "7             30342.0       0.085986                 415.936242   \n",
       "8             54942.0       0.087547                 432.105077   \n",
       "9             72413.0       0.077776                 502.700081   \n",
       "10            66366.0       0.075325                 473.398472   \n",
       "11            51045.0       0.077108                 494.903681   \n",
       "12            52094.0       0.081430                 473.237781   \n",
       "All          525042.0       0.069918                 452.428978   \n",
       "\n",
       "       per_project_avg_total_cost  pcnt_funded  \n",
       "month                                           \n",
       "1                      563.161414     0.756171  \n",
       "2                      552.585735     0.739105  \n",
       "3                      558.841774     0.749563  \n",
       "4                      580.571513     0.743247  \n",
       "5                      581.897578     0.745908  \n",
       "6                      575.814345     0.719596  \n",
       "7                      568.090804     0.732165  \n",
       "8                      553.364527     0.780869  \n",
       "9                      632.576728     0.794686  \n",
       "10                     597.009963     0.792949  \n",
       "11                     643.132943     0.769520  \n",
       "12                     611.511851     0.773882  \n",
       "All                    590.214074     0.766551  "
      ]
     },
     "execution_count": 65,
     "metadata": {},
     "output_type": "execute_result"
    }
   ],
   "source": [
    "# lets look at this by month since: \n",
    "# a) spending habits are usually cyclical (eg people spend more around the holidays)\n",
    "# b) schools are not open year round \n",
    "# even if funding isn't the limiting factor in being exciting,\n",
    "# ultimately all the metrics (e.g. donor referrals) boil down to raising money\n",
    "\n",
    "## possibly actionable date here: post your projects in the summer!\n",
    "## summer projects do very well (selection bias or less competition in market for school donations?) \n",
    "## january - may are weak months for both raising money and being exciting\n",
    "dd['date_posted'] = pd.to_datetime(dd['date_posted'])\n",
    "dd['month'] = pd.DatetimeIndex(dd['date_posted']).month\n",
    "byMonth = pd.pivot_table(dd,index=[\"month\"],\n",
    "               values=[\"is_exciting\",\"sum_donation_total\",\"total_price_including_optional_support\"],\n",
    "               aggfunc=[np.sum,len],margins=True)\n",
    "byMonth.columns =[s1 + \"_\" + str(s2) for (s1,s2) in byMonth.columns.tolist()]\n",
    "byMonth['exciting_rate'] = byMonth['sum_is_exciting']/byMonth['len_is_exciting']\n",
    "byMonth['per_project_avg_total_don']=byMonth['sum_sum_donation_total']/byMonth['len_is_exciting']\n",
    "byMonth['per_project_avg_total_cost']=byMonth['sum_total_price_including_optional_support']/byMonth['len_is_exciting']\n",
    "byMonth['pcnt_funded']=byMonth['per_project_avg_total_don']/byMonth['per_project_avg_total_cost']\n",
    "bm = byMonth[['len_is_exciting','exciting_rate','per_project_avg_total_don','per_project_avg_total_cost','pcnt_funded']]\n",
    "bm= bm.rename(columns={'len_is_exciting': 'total_projects'})\n",
    "bm"
   ]
  },
  {
   "cell_type": "code",
   "execution_count": 27,
   "metadata": {},
   "outputs": [
    {
     "name": "stdout",
     "output_type": "stream",
     "text": [
      "669.606827256 601.487399267\n"
     ]
    }
   ],
   "source": [
    "# moving on...\n",
    "# one particularly interesting thing i saw in boolean analysis was that \n",
    "# Teach for America (TFA) significantly outperforms New York Teaching Fellows (NYTF)\n",
    "# Initially, I thought this was due to NYTF having a higher average asking price, and thus failing more\n",
    "# this conflicts with my earlier assertion that being fully_funded is not a big limiting factor\n",
    "# it does look like NYTF ask for more money\n",
    "# but maybe there are some outliers skewing the averages? \n",
    "a1 = dd['total_price_including_optional_support'][dd['teacher_ny_teaching_fellow'] == 1].mean() \n",
    "a2 = dd['total_price_including_optional_support'][dd['teacher_teach_for_america'] == 1].mean()\n",
    "print(a1,a2)"
   ]
  },
  {
   "cell_type": "code",
   "execution_count": 25,
   "metadata": {},
   "outputs": [
    {
     "data": {
      "image/png": "[encoded data removed]",
      "text/plain": [
       "<matplotlib.figure.Figure at 0x117525e10>"
      ]
     },
     "metadata": {},
     "output_type": "display_data"
    }
   ],
   "source": [
    "# let's get a general overview of how wide the range of project asking price is\n",
    "# (note that this chart looks similar if you do total_price_excluding_optional_support)\n",
    "x = dd.is_exciting\n",
    "y = dd.total_price_including_optional_support\n",
    "\n",
    "plt.scatter(x,y)\n",
    "plt.xlabel(\"is_exciting\")\n",
    "plt.ylabel(\"total_price_including_optional_support\")\n",
    "plt.show()"
   ]
  },
  {
   "cell_type": "code",
   "execution_count": 28,
   "metadata": {},
   "outputs": [
    {
     "data": {
      "text/plain": [
       "count    5.250420e+05\n",
       "mean     5.902141e+02\n",
       "std      1.922414e+03\n",
       "min      0.000000e+00\n",
       "10%      2.060400e+02\n",
       "20%      2.723600e+02\n",
       "30%      3.397100e+02\n",
       "40%      4.042000e+02\n",
       "50%      4.719500e+02\n",
       "60%      5.288900e+02\n",
       "70%      5.919270e+02\n",
       "80%      7.497360e+02\n",
       "90%      9.810400e+02\n",
       "max      1.219512e+06\n",
       "Name: total_price_including_optional_support, dtype: float64"
      ]
     },
     "execution_count": 28,
     "metadata": {},
     "output_type": "execute_result"
    }
   ],
   "source": [
    "# above graph shows a pretty wide range in asking price of failing projects.  \n",
    "# let's see asking price by decile \n",
    "totalPrice = dd.total_price_including_optional_support\n",
    "totalPrice.describe(percentiles=[.1,.2,.3,.4,.5,.6,.7,.8,.9])"
   ]
  },
  {
   "cell_type": "code",
   "execution_count": 15,
   "metadata": {
    "collapsed": true
   },
   "outputs": [],
   "source": [
    "# bottom 90% is consistent and then the highest 10% jumps 4 levels of magnitude\n",
    "# lets filter out top 10% most expensive projects\n",
    "ddCopy = copy.copy(dd)\n",
    "dd90 = ddCopy[dd['total_price_including_optional_support'] < 981]"
   ]
  },
  {
   "cell_type": "code",
   "execution_count": 54,
   "metadata": {},
   "outputs": [
    {
     "name": "stdout",
     "output_type": "stream",
     "text": [
      "0.0573436545121 0.117518844792\n"
     ]
    }
   ],
   "source": [
    "# TFA is still far more successful than NYTF when excluding top 10% most expensive projects\n",
    "aaa = dd['is_exciting'][dd['teacher_ny_teaching_fellow'] == 1].mean() \n",
    "abc = dd['is_exciting'][dd['teacher_teach_for_america'] == 1].mean()\n",
    "print(aaa,abc)"
   ]
  },
  {
   "cell_type": "code",
   "execution_count": 66,
   "metadata": {},
   "outputs": [
    {
     "name": "stdout",
     "output_type": "stream",
     "text": [
      "669.606827256 601.487399267 444.377328655 457.678384415\n"
     ]
    }
   ],
   "source": [
    "## Asking again: do NYTF ask for more money ? \n",
    "## yes, but that disparity largely disappears (and in fact reverses) when you\n",
    "## exclude the top 10% most expensive projects (and possibly just a few outliers within that subset)\n",
    "## NYTF is 11% more expensive for entire data set, but 3% cheaper on lower 90% of project costs\n",
    "a1 = dd['total_price_including_optional_support'][dd['teacher_ny_teaching_fellow'] == 1].mean() \n",
    "a2 = dd['total_price_including_optional_support'][dd['teacher_teach_for_america'] == 1].mean()\n",
    "a3 = dd90['total_price_including_optional_support'][dd90['teacher_ny_teaching_fellow'] == 1].mean()\n",
    "a4 = dd90['total_price_including_optional_support'][dd90['teacher_teach_for_america'] == 1].mean()\n",
    "print(a1,a2,a3,a4)"
   ]
  },
  {
   "cell_type": "code",
   "execution_count": 49,
   "metadata": {},
   "outputs": [
    {
     "name": "stdout",
     "output_type": "stream",
     "text": [
      "0.93567251462 0.916061230696\n"
     ]
    }
   ],
   "source": [
    "# and in fact, NYTF get their projects funded at a higher rate \n",
    "a5 = dd90['fully_funded'][dd90['teacher_ny_teaching_fellow'] == 1].mean()\n",
    "a6 = dd90['fully_funded'][dd90['teacher_teach_for_america'] == 1].mean()\n",
    "print(a5,a6)"
   ]
  },
  {
   "cell_type": "code",
   "execution_count": 67,
   "metadata": {},
   "outputs": [
    {
     "name": "stdout",
     "output_type": "stream",
     "text": [
      "0.159995304613 0.282208381288\n"
     ]
    }
   ],
   "source": [
    "# we know that at_least_1_teacher_referred_donor is hardest to get\n",
    "# indeed, right off the bat, 84% of NYTF projects are going to fail due (in part, at least) to teach-ref-donor\n",
    "a7 = dd90['at_least_1_teacher_referred_donor'][dd90['teacher_ny_teaching_fellow'] == 1].mean()\n",
    "a8 = dd90['at_least_1_teacher_referred_donor'][dd90['teacher_teach_for_america'] == 1].mean()\n",
    "print(a7,a8)"
   ]
  },
  {
   "cell_type": "code",
   "execution_count": 31,
   "metadata": {},
   "outputs": [
    {
     "name": "stdout",
     "output_type": "stream",
     "text": [
      "0.299415204678 0.40202074815\n"
     ]
    }
   ],
   "source": [
    "# TFA does significantly better on most engagement KPIs\n",
    "# they have much better chats\n",
    "a9 = dd90['great_chat'][dd90['teacher_ny_teaching_fellow'] == 1].mean()\n",
    "a10 = dd90['great_chat'][dd90['teacher_teach_for_america'] == 1].mean()\n",
    "print(a9,a10)"
   ]
  },
  {
   "cell_type": "code",
   "execution_count": 68,
   "metadata": {},
   "outputs": [
    {
     "name": "stdout",
     "output_type": "stream",
     "text": [
      "0.464021598779 0.571525286033\n"
     ]
    }
   ],
   "source": [
    "# TFA has more non teacher referred donors\n",
    "a11 = dd90['three_or_more_non_teacher_referred_donors'][dd90['teacher_ny_teaching_fellow'] == 1].mean()\n",
    "a12 = dd90['three_or_more_non_teacher_referred_donors'][dd90['teacher_teach_for_america'] == 1].mean()\n",
    "print(a11,a12)"
   ]
  },
  {
   "cell_type": "code",
   "execution_count": 69,
   "metadata": {},
   "outputs": [
    {
     "name": "stdout",
     "output_type": "stream",
     "text": [
      "4.32128654971 5.87459872267 401.440032749 408.644417261\n"
     ]
    }
   ],
   "source": [
    "# TFA has more donations (i.e. a higher count of donations)\n",
    "# (but of a smaller amount per donation since NYTF has almost the same sum of donations)\n",
    "# len_donation_total = count\n",
    "a13 = dd90['len_donation_total'][dd90['teacher_ny_teaching_fellow'] == 1].mean()\n",
    "a14 = dd90['len_donation_total'][dd90['teacher_teach_for_america'] == 1].mean()\n",
    "a22 = dd90['sum_donation_total'][dd90['teacher_ny_teaching_fellow'] == 1].mean()\n",
    "a23 = dd90['sum_donation_total'][dd90['teacher_teach_for_america'] == 1].mean()\n",
    "print(a13,a14,a22,a23)"
   ]
  },
  {
   "cell_type": "code",
   "execution_count": 70,
   "metadata": {},
   "outputs": [
    {
     "name": "stdout",
     "output_type": "stream",
     "text": [
      "55.1942635932 59.199813417\n"
     ]
    }
   ],
   "source": [
    "# TFA has more great messages\n",
    "a19 = dd90['great_messages_proportion'][dd90['teacher_ny_teaching_fellow'] == 1].mean()\n",
    "a20 = dd90['great_messages_proportion'][dd90['teacher_teach_for_america'] == 1].mean()\n",
    "print(a19,a20)"
   ]
  },
  {
   "cell_type": "code",
   "execution_count": 71,
   "metadata": {},
   "outputs": [
    {
     "name": "stdout",
     "output_type": "stream",
     "text": [
      "0.846695621552 0.778044817548\n"
     ]
    }
   ],
   "source": [
    "# NYTF does better on metrics regarding the quality of their donors\n",
    "# we already saw NYTF has higher dollars/donor\n",
    "# NYTF has more big non teacher referred donors\n",
    "a15 = dd90['one_non_teacher_referred_donor_giving_100_plus'][dd90['teacher_ny_teaching_fellow'] == 1].mean()\n",
    "a16 = dd90['one_non_teacher_referred_donor_giving_100_plus'][dd90['teacher_teach_for_america'] == 1].mean()\n",
    "print(a15,a16)"
   ]
  },
  {
   "cell_type": "code",
   "execution_count": 58,
   "metadata": {},
   "outputs": [
    {
     "name": "stdout",
     "output_type": "stream",
     "text": [
      "0.0257072426341 0.0108997359691\n"
     ]
    }
   ],
   "source": [
    "# NYTF has more donations from thoughtful donors \n",
    "a17 = dd90['donation_from_thoughtful_donor'][dd90['teacher_ny_teaching_fellow'] == 1].mean()\n",
    "a18 = dd90['donation_from_thoughtful_donor'][dd90['teacher_teach_for_america'] == 1].mean()\n",
    "print(a17,a18)"
   ]
  }
 ],
 "metadata": {
  "kernelspec": {
   "display_name": "Python 3",
   "language": "python",
   "name": "python3"
  },
  "language_info": {
   "codemirror_mode": {
    "name": "ipython",
    "version": 3
   },
   "file_extension": ".py",
   "mimetype": "text/x-python",
   "name": "python",
   "nbconvert_exporter": "python",
   "pygments_lexer": "ipython3",
   "version": "3.6.1"
  }
 },
 "nbformat": 4,
 "nbformat_minor": 2
}
